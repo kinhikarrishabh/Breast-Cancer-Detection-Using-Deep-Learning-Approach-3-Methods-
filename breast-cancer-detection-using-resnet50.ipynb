{
 "cells": [
  {
   "cell_type": "code",
   "execution_count": 1,
   "id": "6d314357",
   "metadata": {
    "_cell_guid": "b1076dfc-b9ad-4769-8c92-a6c4dae69d19",
    "_uuid": "8f2839f25d086af736a60e9eeb907d3b93b6e0e5",
    "execution": {
     "iopub.execute_input": "2022-06-13T06:02:59.897489Z",
     "iopub.status.busy": "2022-06-13T06:02:59.896836Z",
     "iopub.status.idle": "2022-06-13T06:03:06.845326Z",
     "shell.execute_reply": "2022-06-13T06:03:06.844248Z"
    },
    "papermill": {
     "duration": 6.960085,
     "end_time": "2022-06-13T06:03:06.847954",
     "exception": false,
     "start_time": "2022-06-13T06:02:59.887869",
     "status": "completed"
    },
    "tags": []
   },
   "outputs": [],
   "source": [
    "from tensorflow import keras\n",
    "import cv2\n",
    "from tensorflow.keras.preprocessing.image import load_img ,img_to_array\n",
    "import matplotlib.pyplot as plt\n",
    "from tensorflow.keras.models import Sequential \n",
    "from tensorflow.keras.layers import Conv2D\n",
    "from tensorflow.keras.layers import MaxPooling2D,AveragePooling2D,BatchNormalization\n",
    "from tensorflow.keras.layers import Dense,Activation\n",
    "from tensorflow.keras.layers import Flatten,Dropout,SpatialDropout2D\n",
    "from tensorflow.keras.optimizers import SGD\n",
    "from tensorflow.keras.optimizers import Adam\n",
    "import os\n",
    "import numpy as np\n",
    "import pandas as pd"
   ]
  },
  {
   "cell_type": "code",
   "execution_count": 2,
   "id": "ed19a069",
   "metadata": {
    "execution": {
     "iopub.execute_input": "2022-06-13T06:03:06.858198Z",
     "iopub.status.busy": "2022-06-13T06:03:06.857517Z",
     "iopub.status.idle": "2022-06-13T06:03:06.994469Z",
     "shell.execute_reply": "2022-06-13T06:03:06.993696Z"
    },
    "papermill": {
     "duration": 0.144092,
     "end_time": "2022-06-13T06:03:06.996325",
     "exception": false,
     "start_time": "2022-06-13T06:03:06.852233",
     "status": "completed"
    },
    "tags": []
   },
   "outputs": [
    {
     "data": {
      "text/plain": [
       "{'benign': 891, 'normal': 266, 'malignant': 421}"
      ]
     },
     "execution_count": 2,
     "metadata": {},
     "output_type": "execute_result"
    }
   ],
   "source": [
    "path = \"/kaggle/input/breast-ultrasound-images-dataset/Dataset_BUSI_with_GT\"\n",
    "dir_list = [os.path.join(path,i) for i in os.listdir(path)]\n",
    "size_dict = {}\n",
    "for i,value in enumerate(dir_list):\n",
    "    size_dict[os.listdir(path)[i]] = len(os.listdir(value))\n",
    "size_dict "
   ]
  },
  {
   "cell_type": "code",
   "execution_count": 3,
   "id": "b594977d",
   "metadata": {
    "execution": {
     "iopub.execute_input": "2022-06-13T06:03:07.006845Z",
     "iopub.status.busy": "2022-06-13T06:03:07.006123Z",
     "iopub.status.idle": "2022-06-13T06:03:07.010431Z",
     "shell.execute_reply": "2022-06-13T06:03:07.009632Z"
    },
    "papermill": {
     "duration": 0.011753,
     "end_time": "2022-06-13T06:03:07.012400",
     "exception": false,
     "start_time": "2022-06-13T06:03:07.000647",
     "status": "completed"
    },
    "tags": []
   },
   "outputs": [],
   "source": [
    "import re\n",
    "def clean(name):\n",
    "    name = re.sub('[benign ().p]','',str(name))\n",
    "    return name"
   ]
  },
  {
   "cell_type": "code",
   "execution_count": 4,
   "id": "fe6cdc90",
   "metadata": {
    "execution": {
     "iopub.execute_input": "2022-06-13T06:03:07.023432Z",
     "iopub.status.busy": "2022-06-13T06:03:07.022731Z",
     "iopub.status.idle": "2022-06-13T06:03:07.044005Z",
     "shell.execute_reply": "2022-06-13T06:03:07.043337Z"
    },
    "papermill": {
     "duration": 0.029397,
     "end_time": "2022-06-13T06:03:07.046355",
     "exception": false,
     "start_time": "2022-06-13T06:03:07.016958",
     "status": "completed"
    },
    "tags": []
   },
   "outputs": [
    {
     "name": "stdout",
     "output_type": "stream",
     "text": [
      "437\n"
     ]
    }
   ],
   "source": [
    "df = pd.DataFrame(os.listdir(dir_list[0]))\n",
    "# df = df.apply(str,axis=1)\n",
    "df = df[0].apply(clean)\n",
    "# print(df.info())\n",
    "df = df[~df.str.contains('mask',regex =False)]\n",
    "df = df.apply(int)\n",
    "df_list = list(df)\n",
    "type(df_list)\n",
    "df_list.sort()\n",
    "print(len(df_list))"
   ]
  },
  {
   "cell_type": "code",
   "execution_count": 5,
   "id": "23b45965",
   "metadata": {
    "execution": {
     "iopub.execute_input": "2022-06-13T06:03:07.058303Z",
     "iopub.status.busy": "2022-06-13T06:03:07.057640Z",
     "iopub.status.idle": "2022-06-13T06:03:07.064568Z",
     "shell.execute_reply": "2022-06-13T06:03:07.063812Z"
    },
    "papermill": {
     "duration": 0.014623,
     "end_time": "2022-06-13T06:03:07.066544",
     "exception": false,
     "start_time": "2022-06-13T06:03:07.051921",
     "status": "completed"
    },
    "tags": []
   },
   "outputs": [],
   "source": [
    "img_size = 128\n",
    "img_channel = 3\n",
    "X_b , Xm_b , y_b = np.zeros((437,img_size,img_size,img_channel)) , np.zeros((437,img_size,img_size,img_channel)) , np.full(437,'benign') \n",
    "X_n , Xm_n , y_n = np.zeros((133,img_size,img_size,img_channel)) , np.zeros((133,img_size,img_size,img_channel)) , np.full(133,'normal') \n",
    "X_m , Xm_m , y_m = np.zeros((210,img_size,img_size,img_channel)) , np.zeros((210,img_size,img_size,img_channel)) , np.full(210,'malignant')"
   ]
  },
  {
   "cell_type": "code",
   "execution_count": 6,
   "id": "5718a1c8",
   "metadata": {
    "execution": {
     "iopub.execute_input": "2022-06-13T06:03:07.077657Z",
     "iopub.status.busy": "2022-06-13T06:03:07.076953Z",
     "iopub.status.idle": "2022-06-13T06:03:23.893850Z",
     "shell.execute_reply": "2022-06-13T06:03:23.892779Z"
    },
    "papermill": {
     "duration": 16.825515,
     "end_time": "2022-06-13T06:03:23.896671",
     "exception": false,
     "start_time": "2022-06-13T06:03:07.071156",
     "status": "completed"
    },
    "tags": []
   },
   "outputs": [
    {
     "name": "stdout",
     "output_type": "stream",
     "text": [
      "(128, 128, 3)\n"
     ]
    }
   ],
   "source": [
    "import os\n",
    "img1_path = os.path.join(os.path.join(path,'benign'),os.listdir(os.path.join(path,'benign'))[1])\n",
    "\n",
    "pil_img = load_img(img1_path,color_mode = 'rgb',target_size=(img_size,img_size))\n",
    "img = img_to_array(pil_img)\n",
    "img_shape = img.shape\n",
    "print(img_shape)\n",
    "\n",
    "def img_num(filename):\n",
    "    \n",
    "    val = 0\n",
    "    \n",
    "    for i in range(len(filename)) :\n",
    "        if filename[i] == '(' :\n",
    "            while True :\n",
    "                i += 1\n",
    "                if filename[i] == ')' :\n",
    "                    break\n",
    "                val = (val*10) + int(filename[i])\n",
    "            break\n",
    "    \n",
    "    return val\n",
    "\n",
    "for tumor_path in dir_list :\n",
    "    for image in os.listdir(tumor_path) :\n",
    "        p = os.path.join(tumor_path, image)\n",
    "        pil_img = load_img(p,color_mode = 'rgb',target_size=(img_size,img_size))         # read image as  grayscale ans resize it\n",
    "        \n",
    "        if image[-5] == ')' :                                   #if real image \n",
    "            \n",
    "            if image[0] == 'b' :\n",
    "                X_b[img_num(image)-1]+= img_to_array(pil_img)  # If image is real add it\n",
    "            if image[0] == 'n' :                               # to X as benign , normal\n",
    "                X_n[img_num(image)-1]+= img_to_array(pil_img)  # or malignant.\n",
    "            if image[0] == 'm' :\n",
    "                X_m[img_num(image)-1]+= img_to_array(pil_img)\n",
    "        else :                                                 #else masked image\n",
    "            \n",
    "            if image[0] == 'b' :\n",
    "                Xm_b[img_num(image)-1]+= img_to_array(pil_img)  # Similarly add the target\n",
    "            if image[0] == 'n' :                               # mask to y.\n",
    "                Xm_n[img_num(image)-1]+= img_to_array(pil_img)\n",
    "            if image[0] == 'm' :\n",
    "                Xm_m[img_num(image)-1]+= img_to_array(pil_img)"
   ]
  },
  {
   "cell_type": "code",
   "execution_count": 7,
   "id": "12558286",
   "metadata": {
    "execution": {
     "iopub.execute_input": "2022-06-13T06:03:23.907537Z",
     "iopub.status.busy": "2022-06-13T06:03:23.906755Z",
     "iopub.status.idle": "2022-06-13T06:03:24.321868Z",
     "shell.execute_reply": "2022-06-13T06:03:24.320618Z"
    },
    "papermill": {
     "duration": 0.422782,
     "end_time": "2022-06-13T06:03:24.324110",
     "exception": false,
     "start_time": "2022-06-13T06:03:23.901328",
     "status": "completed"
    },
    "tags": []
   },
   "outputs": [
    {
     "name": "stdout",
     "output_type": "stream",
     "text": [
      "(780, 128, 128, 3)\n",
      "(780, 128, 128, 3)\n",
      "(780,)\n",
      "1.0\n",
      "0.0\n"
     ]
    }
   ],
   "source": [
    "X = np.concatenate((X_b, X_n, X_m), axis = 0)\n",
    "Xm = np.concatenate((Xm_b, Xm_n, Xm_m), axis = 0)\n",
    "y = np.concatenate((y_b, y_n, y_m), axis = 0)\n",
    "\n",
    "print(X.shape)\n",
    "print(Xm.shape)\n",
    "print(y.shape)\n",
    "X /= 255.0\n",
    "Xm /= 255.0\n",
    "\n",
    "print(X.max())\n",
    "print(Xm.min())"
   ]
  },
  {
   "cell_type": "code",
   "execution_count": 8,
   "id": "d174cf8e",
   "metadata": {
    "execution": {
     "iopub.execute_input": "2022-06-13T06:03:24.334971Z",
     "iopub.status.busy": "2022-06-13T06:03:24.334145Z",
     "iopub.status.idle": "2022-06-13T06:03:25.547317Z",
     "shell.execute_reply": "2022-06-13T06:03:25.546069Z"
    },
    "papermill": {
     "duration": 1.220928,
     "end_time": "2022-06-13T06:03:25.549570",
     "exception": false,
     "start_time": "2022-06-13T06:03:24.328642",
     "status": "completed"
    },
    "tags": []
   },
   "outputs": [
    {
     "name": "stdout",
     "output_type": "stream",
     "text": [
      "(663, 128, 128, 3) (117, 128, 128, 3)\n",
      "(663, 3) (117, 3)\n"
     ]
    }
   ],
   "source": [
    "from sklearn.model_selection import train_test_split\n",
    "from sklearn.preprocessing import OneHotEncoder\n",
    "\n",
    "encoder  = OneHotEncoder()\n",
    "# y = y.toarray()\n",
    "y=encoder.fit_transform(y.reshape(y.shape[0],1))\n",
    "\n",
    "X_train,X_test,y_train,y_test = train_test_split(X,y,test_size = 0.15,shuffle=True,random_state=42)\n",
    "Xm_train,Xm_test,ym_train,ym_test = train_test_split(Xm,y,test_size = 0.15,shuffle=True,random_state=42,stratify=y.toarray())\n",
    "\n",
    "class_list = encoder.categories_\n",
    "print(X_train.shape,X_test.shape)\n",
    "print(y_train.shape,y_test.shape)"
   ]
  },
  {
   "cell_type": "code",
   "execution_count": 9,
   "id": "0024614e",
   "metadata": {
    "execution": {
     "iopub.execute_input": "2022-06-13T06:03:25.560988Z",
     "iopub.status.busy": "2022-06-13T06:03:25.560115Z",
     "iopub.status.idle": "2022-06-13T06:03:25.568613Z",
     "shell.execute_reply": "2022-06-13T06:03:25.567542Z"
    },
    "papermill": {
     "duration": 0.016224,
     "end_time": "2022-06-13T06:03:25.570551",
     "exception": false,
     "start_time": "2022-06-13T06:03:25.554327",
     "status": "completed"
    },
    "tags": []
   },
   "outputs": [],
   "source": [
    "from sklearn.metrics import f1_score,roc_auc_score,cohen_kappa_score\n",
    "def evaluation(model,X_train,y_train,X_val,y_val,X_test,y_test,history):\n",
    "    train_loss , train_acc = model.evaluate(X_train,y_train.toarray())\n",
    "    val_loss, val_acc = model.evaluate(X_val,y_val.toarray())\n",
    "    test_loss_value , test_accuracy = model.evaluate(X_test, y_test.toarray())\n",
    "    y_pred = model.predict(X_test)\n",
    "    y_pred_label = np.argmax(y_pred,axis=1)\n",
    "    y_true_label = np.argmax(y_test,axis=1)\n",
    "    f1_measure = f1_score(y_true_label,y_pred_label,average='weighted')\n",
    "    roc_score = roc_auc_score(y_test.toarray(),y_pred)\n",
    "    kappa_score = cohen_kappa_score(y_true_label,y_pred_label)\n",
    "    print(\"Train accuracy = \"+str(train_acc))\n",
    "    print(\"Validation accuracy = \"+str(val_acc))\n",
    "    print('Test accuracy = ' + str(test_accuracy))\n",
    "    print(\"f1_measure = \"+str(f1_measure))\n",
    "    print(\"KAPPA = \"+str(kappa_score))\n",
    "    print(\"roc_area = \"+str(roc_score))"
   ]
  },
  {
   "cell_type": "code",
   "execution_count": 10,
   "id": "f27e9c3e",
   "metadata": {
    "execution": {
     "iopub.execute_input": "2022-06-13T06:03:25.581632Z",
     "iopub.status.busy": "2022-06-13T06:03:25.580709Z",
     "iopub.status.idle": "2022-06-13T06:03:25.588631Z",
     "shell.execute_reply": "2022-06-13T06:03:25.587657Z"
    },
    "papermill": {
     "duration": 0.015624,
     "end_time": "2022-06-13T06:03:25.590673",
     "exception": false,
     "start_time": "2022-06-13T06:03:25.575049",
     "status": "completed"
    },
    "tags": []
   },
   "outputs": [],
   "source": [
    "import matplotlib.pyplot as plt\n",
    "def Train_Val_Plot(acc,val_acc,loss,val_loss):\n",
    "    \n",
    "    fig, (ax1, ax2) = plt.subplots(1,2, figsize= (15,10))\n",
    "    fig.suptitle(\" MODEL'S METRICS VISUALIZATION \")\n",
    "\n",
    "    ax1.plot(range(1, len(acc) + 1), acc)\n",
    "    ax1.plot(range(1, len(val_acc) + 1), val_acc)\n",
    "    ax1.set_title('History of Accuracy')\n",
    "    ax1.set_xlabel('Epochs')\n",
    "    ax1.set_ylabel('Accuracy')\n",
    "    ax1.legend(['training', 'validation'])\n",
    "\n",
    "\n",
    "    ax2.plot(range(1, len(loss) + 1), loss)\n",
    "    ax2.plot(range(1, len(val_loss) + 1), val_loss)\n",
    "    ax2.set_title('History of Loss')\n",
    "    ax2.set_xlabel('Epochs')\n",
    "    ax2.set_ylabel('Loss')\n",
    "    ax2.legend(['training', 'validation'])\n",
    "    plt.show()"
   ]
  },
  {
   "cell_type": "code",
   "execution_count": 11,
   "id": "51c98005",
   "metadata": {
    "execution": {
     "iopub.execute_input": "2022-06-13T06:03:25.601111Z",
     "iopub.status.busy": "2022-06-13T06:03:25.600703Z",
     "iopub.status.idle": "2022-06-13T06:03:25.609128Z",
     "shell.execute_reply": "2022-06-13T06:03:25.608126Z"
    },
    "papermill": {
     "duration": 0.016332,
     "end_time": "2022-06-13T06:03:25.611549",
     "exception": false,
     "start_time": "2022-06-13T06:03:25.595217",
     "status": "completed"
    },
    "tags": []
   },
   "outputs": [],
   "source": [
    "import tensorflow as tf\n",
    "from tensorflow.keras.callbacks import EarlyStopping, ModelCheckpoint\n",
    "\n",
    "\n",
    "def fit_evaluate(model,X_train,y_train,X_test,y_test,bs,Epochs,patience):\n",
    "    es = EarlyStopping(monitor='val_loss', mode='min', patience=patience,restore_best_weights=True, verbose=1)\n",
    "    X1_train,X_val,y1_train,y_val = train_test_split(X_train,y_train,test_size=0.1,random_state=42,stratify = y_train.toarray())\n",
    "    history = model.fit(X1_train,y1_train.toarray(),batch_size = bs,epochs=Epochs,validation_data = (X_val,y_val.toarray()), callbacks=[es])\n",
    "    evaluation(model,X1_train,y1_train,X_val,y_val,X_test,y_test,history)\n",
    "    Train_Val_Plot(history.history['acc'],history.history['val_acc'],history.history['loss'],history.history['val_loss'])"
   ]
  },
  {
   "cell_type": "code",
   "execution_count": 12,
   "id": "9d3faf9a",
   "metadata": {
    "execution": {
     "iopub.execute_input": "2022-06-13T06:03:25.622102Z",
     "iopub.status.busy": "2022-06-13T06:03:25.621428Z",
     "iopub.status.idle": "2022-06-13T06:03:28.735200Z",
     "shell.execute_reply": "2022-06-13T06:03:28.734094Z"
    },
    "papermill": {
     "duration": 3.121756,
     "end_time": "2022-06-13T06:03:28.737721",
     "exception": false,
     "start_time": "2022-06-13T06:03:25.615965",
     "status": "completed"
    },
    "tags": []
   },
   "outputs": [
    {
     "name": "stderr",
     "output_type": "stream",
     "text": [
      "2022-06-13 06:03:25.680087: I tensorflow/core/common_runtime/process_util.cc:146] Creating new thread pool with default inter op setting: 2. Tune using inter_op_parallelism_threads for best performance.\n"
     ]
    },
    {
     "name": "stdout",
     "output_type": "stream",
     "text": [
      "Downloading data from https://storage.googleapis.com/tensorflow/keras-applications/resnet/resnet50_weights_tf_dim_ordering_tf_kernels_notop.h5\n",
      "94773248/94765736 [==============================] - 1s 0us/step\n",
      "94781440/94765736 [==============================] - 1s 0us/step\n"
     ]
    }
   ],
   "source": [
    "import tensorflow as tf\n",
    "base_model = tf.keras.applications.ResNet50(\n",
    "                include_top=False,\n",
    "                weights=\"imagenet\",\n",
    "                input_tensor=None,\n",
    "                input_shape=img_shape,\n",
    "                pooling=None,\n",
    "            )\n",
    "for layer in base_model.layers:\n",
    "    layer.trainable = False"
   ]
  },
  {
   "cell_type": "code",
   "execution_count": 13,
   "id": "9e3fdf5e",
   "metadata": {
    "execution": {
     "iopub.execute_input": "2022-06-13T06:03:28.750065Z",
     "iopub.status.busy": "2022-06-13T06:03:28.749674Z",
     "iopub.status.idle": "2022-06-13T06:03:28.756967Z",
     "shell.execute_reply": "2022-06-13T06:03:28.756003Z"
    },
    "papermill": {
     "duration": 0.016019,
     "end_time": "2022-06-13T06:03:28.759060",
     "exception": false,
     "start_time": "2022-06-13T06:03:28.743041",
     "status": "completed"
    },
    "tags": []
   },
   "outputs": [],
   "source": [
    "def resnet():\n",
    "\n",
    "    model = Sequential()\n",
    "    model.add(base_model)\n",
    "    \n",
    "    model.add(Flatten())\n",
    "    model.add(BatchNormalization())\n",
    "    model.add(Dense(256,activation='relu'))\n",
    "    model.add(Dropout(0.5))\n",
    "    model.add(Dense(128,activation='relu'))\n",
    "    model.add(Dropout(0.5))\n",
    "    model.add(Dense(64,activation='relu'))\n",
    "    model.add(Dropout(0.5))\n",
    "    model.add(Dense(3,activation='softmax'))\n",
    "    \n",
    "    model.compile(optimizer='adam',loss='categorical_crossentropy',metrics=['acc'])\n",
    "    \n",
    "    return model"
   ]
  },
  {
   "cell_type": "code",
   "execution_count": 14,
   "id": "950283e1",
   "metadata": {
    "execution": {
     "iopub.execute_input": "2022-06-13T06:03:28.770781Z",
     "iopub.status.busy": "2022-06-13T06:03:28.770417Z",
     "iopub.status.idle": "2022-06-13T06:09:42.193766Z",
     "shell.execute_reply": "2022-06-13T06:09:42.192714Z"
    },
    "papermill": {
     "duration": 373.432251,
     "end_time": "2022-06-13T06:09:42.196421",
     "exception": false,
     "start_time": "2022-06-13T06:03:28.764170",
     "status": "completed"
    },
    "tags": []
   },
   "outputs": [
    {
     "name": "stdout",
     "output_type": "stream",
     "text": [
      "Model: \"sequential\"\n",
      "_________________________________________________________________\n",
      "Layer (type)                 Output Shape              Param #   \n",
      "=================================================================\n",
      "resnet50 (Functional)        (None, 4, 4, 2048)        23587712  \n",
      "_________________________________________________________________\n",
      "flatten (Flatten)            (None, 32768)             0         \n",
      "_________________________________________________________________\n",
      "batch_normalization (BatchNo (None, 32768)             131072    \n",
      "_________________________________________________________________\n",
      "dense (Dense)                (None, 256)               8388864   \n",
      "_________________________________________________________________\n",
      "dropout (Dropout)            (None, 256)               0         \n",
      "_________________________________________________________________\n",
      "dense_1 (Dense)              (None, 128)               32896     \n",
      "_________________________________________________________________\n",
      "dropout_1 (Dropout)          (None, 128)               0         \n",
      "_________________________________________________________________\n",
      "dense_2 (Dense)              (None, 64)                8256      \n",
      "_________________________________________________________________\n",
      "dropout_2 (Dropout)          (None, 64)                0         \n",
      "_________________________________________________________________\n",
      "dense_3 (Dense)              (None, 3)                 195       \n",
      "=================================================================\n",
      "Total params: 32,148,995\n",
      "Trainable params: 8,495,747\n",
      "Non-trainable params: 23,653,248\n",
      "_________________________________________________________________\n"
     ]
    },
    {
     "name": "stderr",
     "output_type": "stream",
     "text": [
      "2022-06-13 06:03:29.676620: I tensorflow/compiler/mlir/mlir_graph_optimization_pass.cc:185] None of the MLIR Optimization Passes are enabled (registered 2)\n"
     ]
    },
    {
     "name": "stdout",
     "output_type": "stream",
     "text": [
      "Epoch 1/30\n",
      "38/38 [==============================] - 22s 475ms/step - loss: 0.9675 - acc: 0.5369 - val_loss: 2.6892 - val_acc: 0.5672\n",
      "Epoch 2/30\n",
      "38/38 [==============================] - 17s 438ms/step - loss: 0.8461 - acc: 0.6174 - val_loss: 2.4097 - val_acc: 0.5672\n",
      "Epoch 3/30\n",
      "38/38 [==============================] - 17s 444ms/step - loss: 0.8044 - acc: 0.6409 - val_loss: 1.9879 - val_acc: 0.5672\n",
      "Epoch 4/30\n",
      "38/38 [==============================] - 16s 420ms/step - loss: 0.7927 - acc: 0.6426 - val_loss: 1.7287 - val_acc: 0.5672\n",
      "Epoch 5/30\n",
      "38/38 [==============================] - 17s 438ms/step - loss: 0.7166 - acc: 0.7064 - val_loss: 1.1376 - val_acc: 0.5672\n",
      "Epoch 6/30\n",
      "38/38 [==============================] - 16s 423ms/step - loss: 0.6737 - acc: 0.7064 - val_loss: 1.2191 - val_acc: 0.5821\n",
      "Epoch 7/30\n",
      "38/38 [==============================] - 17s 437ms/step - loss: 0.6234 - acc: 0.7148 - val_loss: 1.0127 - val_acc: 0.6567\n",
      "Epoch 8/30\n",
      "38/38 [==============================] - 16s 419ms/step - loss: 0.5824 - acc: 0.7399 - val_loss: 0.7783 - val_acc: 0.6567\n",
      "Epoch 9/30\n",
      "38/38 [==============================] - 16s 435ms/step - loss: 0.5628 - acc: 0.7617 - val_loss: 0.7214 - val_acc: 0.7015\n",
      "Epoch 10/30\n",
      "38/38 [==============================] - 16s 419ms/step - loss: 0.5299 - acc: 0.7768 - val_loss: 0.7361 - val_acc: 0.7164\n",
      "Epoch 11/30\n",
      "38/38 [==============================] - 17s 437ms/step - loss: 0.5492 - acc: 0.7735 - val_loss: 0.6525 - val_acc: 0.7463\n",
      "Epoch 12/30\n",
      "38/38 [==============================] - 16s 417ms/step - loss: 0.5136 - acc: 0.7919 - val_loss: 0.6823 - val_acc: 0.7015\n",
      "Epoch 13/30\n",
      "38/38 [==============================] - 17s 440ms/step - loss: 0.4661 - acc: 0.8255 - val_loss: 0.6178 - val_acc: 0.8060\n",
      "Epoch 14/30\n",
      "38/38 [==============================] - 16s 420ms/step - loss: 0.4505 - acc: 0.8305 - val_loss: 0.6112 - val_acc: 0.7313\n",
      "Epoch 15/30\n",
      "38/38 [==============================] - 17s 439ms/step - loss: 0.3624 - acc: 0.8624 - val_loss: 0.7165 - val_acc: 0.7463\n",
      "Epoch 16/30\n",
      "38/38 [==============================] - 16s 417ms/step - loss: 0.3556 - acc: 0.8507 - val_loss: 0.7070 - val_acc: 0.7612\n",
      "Epoch 17/30\n",
      "38/38 [==============================] - 17s 455ms/step - loss: 0.4122 - acc: 0.8507 - val_loss: 0.5822 - val_acc: 0.7761\n",
      "Epoch 18/30\n",
      "38/38 [==============================] - 17s 437ms/step - loss: 0.3005 - acc: 0.8809 - val_loss: 0.7099 - val_acc: 0.7761\n",
      "Epoch 19/30\n",
      "38/38 [==============================] - 17s 460ms/step - loss: 0.3406 - acc: 0.8607 - val_loss: 0.6231 - val_acc: 0.7612\n",
      "Epoch 20/30\n",
      "38/38 [==============================] - 16s 426ms/step - loss: 0.2872 - acc: 0.9044 - val_loss: 0.5880 - val_acc: 0.8060\n",
      "Epoch 21/30\n",
      "38/38 [==============================] - 17s 440ms/step - loss: 0.3189 - acc: 0.8876 - val_loss: 0.6687 - val_acc: 0.7164\n",
      "Restoring model weights from the end of the best epoch.\n",
      "Epoch 00021: early stopping\n",
      "19/19 [==============================] - 13s 662ms/step - loss: 0.1915 - acc: 0.9614\n",
      "3/3 [==============================] - 1s 390ms/step - loss: 0.5822 - acc: 0.7761\n",
      "4/4 [==============================] - 3s 620ms/step - loss: 0.6407 - acc: 0.7607\n",
      "Train accuracy = 0.9614093899726868\n",
      "Validation accuracy = 0.7761194109916687\n",
      "Test accuracy = 0.7606837749481201\n",
      "f1_measure = 0.7579677651029392\n",
      "KAPPA = 0.6053487531622695\n",
      "roc_area = 0.8987476138718872\n"
     ]
    },
    {
     "data": {
      "image/png": "[encoded data removed]",
      "text/plain": [
       "<Figure size 1080x720 with 2 Axes>"
      ]
     },
     "metadata": {
      "needs_background": "light"
     },
     "output_type": "display_data"
    }
   ],
   "source": [
    "model = resnet()\n",
    "model.summary()\n",
    "fit_evaluate(model,X_train,y_train,X_test,y_test,16,30,4)"
   ]
  },
  {
   "cell_type": "code",
   "execution_count": 15,
   "id": "0f508a27",
   "metadata": {
    "execution": {
     "iopub.execute_input": "2022-06-13T06:09:42.292364Z",
     "iopub.status.busy": "2022-06-13T06:09:42.291613Z",
     "iopub.status.idle": "2022-06-13T06:13:27.772101Z",
     "shell.execute_reply": "2022-06-13T06:13:27.771322Z"
    },
    "papermill": {
     "duration": 225.530332,
     "end_time": "2022-06-13T06:13:27.773951",
     "exception": false,
     "start_time": "2022-06-13T06:09:42.243619",
     "status": "completed"
    },
    "tags": []
   },
   "outputs": [
    {
     "name": "stdout",
     "output_type": "stream",
     "text": [
      "Model: \"sequential_1\"\n",
      "_________________________________________________________________\n",
      "Layer (type)                 Output Shape              Param #   \n",
      "=================================================================\n",
      "resnet50 (Functional)        (None, 4, 4, 2048)        23587712  \n",
      "_________________________________________________________________\n",
      "flatten_1 (Flatten)          (None, 32768)             0         \n",
      "_________________________________________________________________\n",
      "batch_normalization_1 (Batch (None, 32768)             131072    \n",
      "_________________________________________________________________\n",
      "dense_4 (Dense)              (None, 256)               8388864   \n",
      "_________________________________________________________________\n",
      "dropout_3 (Dropout)          (None, 256)               0         \n",
      "_________________________________________________________________\n",
      "dense_5 (Dense)              (None, 128)               32896     \n",
      "_________________________________________________________________\n",
      "dropout_4 (Dropout)          (None, 128)               0         \n",
      "_________________________________________________________________\n",
      "dense_6 (Dense)              (None, 64)                8256      \n",
      "_________________________________________________________________\n",
      "dropout_5 (Dropout)          (None, 64)                0         \n",
      "_________________________________________________________________\n",
      "dense_7 (Dense)              (None, 3)                 195       \n",
      "=================================================================\n",
      "Total params: 32,148,995\n",
      "Trainable params: 8,495,747\n",
      "Non-trainable params: 23,653,248\n",
      "_________________________________________________________________\n",
      "Epoch 1/30\n",
      "38/38 [==============================] - 21s 476ms/step - loss: 0.9092 - acc: 0.6225 - val_loss: 0.8997 - val_acc: 0.6716\n",
      "Epoch 2/30\n",
      "38/38 [==============================] - 17s 444ms/step - loss: 0.6247 - acc: 0.7836 - val_loss: 0.6971 - val_acc: 0.6866\n",
      "Epoch 3/30\n",
      "38/38 [==============================] - 16s 422ms/step - loss: 0.5228 - acc: 0.8372 - val_loss: 0.5541 - val_acc: 0.6567\n",
      "Epoch 4/30\n",
      "38/38 [==============================] - 17s 443ms/step - loss: 0.3605 - acc: 0.8607 - val_loss: 0.4277 - val_acc: 0.8507\n",
      "Epoch 5/30\n",
      "38/38 [==============================] - 16s 421ms/step - loss: 0.4190 - acc: 0.8809 - val_loss: 0.3095 - val_acc: 0.8657\n",
      "Epoch 6/30\n",
      "38/38 [==============================] - 17s 445ms/step - loss: 0.2958 - acc: 0.9111 - val_loss: 0.3137 - val_acc: 0.8507\n",
      "Epoch 7/30\n",
      "38/38 [==============================] - 16s 421ms/step - loss: 0.2885 - acc: 0.9027 - val_loss: 0.3208 - val_acc: 0.8507\n",
      "Epoch 8/30\n",
      "38/38 [==============================] - 17s 439ms/step - loss: 0.2428 - acc: 0.9144 - val_loss: 0.2764 - val_acc: 0.8657\n",
      "Epoch 9/30\n",
      "38/38 [==============================] - 16s 422ms/step - loss: 0.2111 - acc: 0.9346 - val_loss: 0.3088 - val_acc: 0.8955\n",
      "Epoch 10/30\n",
      "38/38 [==============================] - 17s 442ms/step - loss: 0.1572 - acc: 0.9463 - val_loss: 0.3037 - val_acc: 0.8955\n",
      "Epoch 11/30\n",
      "38/38 [==============================] - 16s 421ms/step - loss: 0.1922 - acc: 0.9379 - val_loss: 0.3751 - val_acc: 0.8507\n",
      "Epoch 12/30\n",
      "38/38 [==============================] - 17s 440ms/step - loss: 0.1532 - acc: 0.9446 - val_loss: 0.2986 - val_acc: 0.8507\n",
      "Restoring model weights from the end of the best epoch.\n",
      "Epoch 00012: early stopping\n",
      "19/19 [==============================] - 13s 697ms/step - loss: 0.0948 - acc: 0.9782\n",
      "3/3 [==============================] - 2s 410ms/step - loss: 0.2764 - acc: 0.8657\n",
      "4/4 [==============================] - 3s 622ms/step - loss: 0.1574 - acc: 0.9573\n",
      "Train accuracy = 0.9781879186630249\n",
      "Validation accuracy = 0.8656716346740723\n",
      "Test accuracy = 0.9572649598121643\n",
      "f1_measure = 0.957075328084819\n",
      "KAPPA = 0.9262945697366763\n",
      "roc_area = 0.9902923591860532\n"
     ]
    },
    {
     "data": {
      "image/png": "[encoded data removed]",
      "text/plain": [
       "<Figure size 1080x720 with 2 Axes>"
      ]
     },
     "metadata": {
      "needs_background": "light"
     },
     "output_type": "display_data"
    }
   ],
   "source": [
    "model = resnet()\n",
    "model.summary()\n",
    "fit_evaluate(model,Xm_train,ym_train,Xm_test,ym_test,16,30,4)"
   ]
  },
  {
   "cell_type": "code",
   "execution_count": 16,
   "id": "dee427fe",
   "metadata": {
    "execution": {
     "iopub.execute_input": "2022-06-13T06:13:27.922500Z",
     "iopub.status.busy": "2022-06-13T06:13:27.921770Z",
     "iopub.status.idle": "2022-06-13T06:13:29.436365Z",
     "shell.execute_reply": "2022-06-13T06:13:29.435524Z"
    },
    "papermill": {
     "duration": 1.591684,
     "end_time": "2022-06-13T06:13:29.439038",
     "exception": false,
     "start_time": "2022-06-13T06:13:27.847354",
     "status": "completed"
    },
    "tags": []
   },
   "outputs": [
    {
     "name": "stdout",
     "output_type": "stream",
     "text": [
      "[0]\n"
     ]
    }
   ],
   "source": [
    "import cv2\n",
    "img = cv2.imread('../input/breast-ultrasound-images-dataset/Dataset_BUSI_with_GT/malignant/malignant (100).png')\n",
    "img = cv2.resize(img,(128,128))\n",
    "img = np.reshape(img,[1,128,128,3])\n",
    "\n",
    "#classes = model.predict_classes(img)\n",
    "predict_x=model.predict(img) \n",
    "classes=np.argmax(predict_x,axis=1)\n",
    "\n",
    "print (classes)\n",
    "\n"
   ]
  },
  {
   "cell_type": "code",
   "execution_count": null,
   "id": "45a90bf1",
   "metadata": {
    "papermill": {
     "duration": 0.072567,
     "end_time": "2022-06-13T06:13:29.585996",
     "exception": false,
     "start_time": "2022-06-13T06:13:29.513429",
     "status": "completed"
    },
    "tags": []
   },
   "outputs": [],
   "source": []
  },
  {
   "cell_type": "code",
   "execution_count": null,
   "id": "0d7b560a",
   "metadata": {
    "papermill": {
     "duration": 0.072346,
     "end_time": "2022-06-13T06:13:29.731617",
     "exception": false,
     "start_time": "2022-06-13T06:13:29.659271",
     "status": "completed"
    },
    "tags": []
   },
   "outputs": [],
   "source": []
  }
 ],
 "metadata": {
  "kernelspec": {
   "display_name": "Python 3",
   "language": "python",
   "name": "python3"
  },
  "language_info": {
   "codemirror_mode": {
    "name": "ipython",
    "version": 3
   },
   "file_extension": ".py",
   "mimetype": "text/x-python",
   "name": "python",
   "nbconvert_exporter": "python",
   "pygments_lexer": "ipython3",
   "version": "3.7.12"
  },
  "papermill": {
   "default_parameters": {},
   "duration": 641.893205,
   "end_time": "2022-06-13T06:13:32.930233",
   "environment_variables": {},
   "exception": null,
   "input_path": "__notebook__.ipynb",
   "output_path": "__notebook__.ipynb",
   "parameters": {},
   "start_time": "2022-06-13T06:02:51.037028",
   "version": "2.3.4"
  }
 },
 "nbformat": 4,
 "nbformat_minor": 5
}
